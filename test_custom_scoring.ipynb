{
 "cells": [
  {
   "cell_type": "markdown",
   "metadata": {
    "ein.tags": "worksheet-0",
    "slideshow": {
     "slide_type": "-"
    }
   },
   "source": [
    "Note: this notebook should be run from the debug-shuffle branch."
   ]
  },
  {
   "cell_type": "markdown",
   "metadata": {
    "ein.tags": "worksheet-0",
    "slideshow": {
     "slide_type": "-"
    }
   },
   "source": [
    "In this notebook we were trying to see why the shuffle trials were getting slightly different performance when using our custom scorer.\n",
    "Turns out it was because our custom scorer, in adding noise, changes the state of the np.random random number generator.\n",
    "This then means that we get a differen relabeling of the trials in the shuffled setting.\n",
    "This then gives us different estimators, which then means that our final performance will be slightly different.\n",
    "This doesn't affect the unshuffled trials because the trials chosen for training and test are determined by StratifiedShuffleSplit.\n",
    "And that uses its own RNG that's unperturbed by subsequent uses of np.random.\n",
    "So all that matters for the unshuffled trials are the indices, which remain the same whether we use the custom scorer or not."
   ]
  },
  {
   "cell_type": "code",
   "execution_count": 1,
   "metadata": {
    "autoscroll": false,
    "collapsed": false,
    "ein.hycell": false,
    "ein.tags": "worksheet-0",
    "slideshow": {
     "slide_type": "-"
    }
   },
   "outputs": [
    {
     "name": "stdout",
     "output_type": "stream",
     "text": [
      "Populating the interactive namespace from numpy and matplotlib\n"
     ]
    }
   ],
   "source": [
    "%pylab inline\n",
    "import logging\n",
    "from importlib import reload\n",
    "plt.style.use(\"default\")"
   ]
  },
  {
   "cell_type": "code",
   "execution_count": 2,
   "metadata": {
    "autoscroll": false,
    "collapsed": false,
    "ein.hycell": false,
    "ein.tags": "worksheet-0",
    "slideshow": {
     "slide_type": "-"
    }
   },
   "outputs": [],
   "source": [
    "import run, inputs\n",
    "reload(run)\n",
    "reload(inputs)\n",
    "Config = inputs.Config\n",
    "inputs.logger.setLevel(logging.DEBUG)\n",
    "run.logger.setLevel(logging.DEBUG)"
   ]
  },
  {
   "cell_type": "code",
   "execution_count": 3,
   "metadata": {
    "autoscroll": false,
    "collapsed": false,
    "ein.hycell": false,
    "ein.tags": "worksheet-0",
    "slideshow": {
     "slide_type": "-"
    }
   },
   "outputs": [
    {
     "name": "stderr",
     "output_type": "stream",
     "text": [
      "DEBUG:run.py:Running with Config(seed=0, n_sub=145, shuf=1, freq=2, pairs='CD', whiskers='yes', window_size=0.025, start_time=6, response_threshold=1, min_resp_trials=0.75).\n"
     ]
    },
    {
     "name": "stderr",
     "output_type": "stream",
     "text": [
      "DEBUG:run.py:Custom scoring is TRUE.\n"
     ]
    },
    {
     "name": "stderr",
     "output_type": "stream",
     "text": [
      "DEBUG:run.py:Scoring noise  is FALSE.\n"
     ]
    },
    {
     "name": "stderr",
     "output_type": "stream",
     "text": [
      "DEBUG:inputs.py:generate_input_for_config\n"
     ]
    },
    {
     "name": "stderr",
     "output_type": "stream",
     "text": [
      "DEBUG:inputs.py:Generating input for Config(seed=0, n_sub=145, shuf=1, freq=2, pairs='CD', whiskers='yes', window_size=0.025, start_time=6, response_threshold=1, min_resp_trials=0.75)\n"
     ]
    },
    {
     "name": "stderr",
     "output_type": "stream",
     "text": [
      "DEBUG:inputs.py:Using pairs=['CD'].\n"
     ]
    },
    {
     "name": "stderr",
     "output_type": "stream",
     "text": [
      "DEBUG:inputs.py:Using 1 bins to approximate a desired window size of 0.025 with dt=0.032.\n"
     ]
    },
    {
     "name": "stderr",
     "output_type": "stream",
     "text": [
      "DEBUG:inputs.py:Picked time indices 186 (6.020 sec.) to 186 (6.020 sec.) to approximately span a config.window_size=0.025 second window starting at config.start_time=6.000 seconds.\n"
     ]
    },
    {
     "name": "stderr",
     "output_type": "stream",
     "text": [
      "DEBUG:inputs.py:Filtering glomeruli by responsivity using response_threshold=1 and min_resp_trials=0.75.\n"
     ]
    },
    {
     "name": "stderr",
     "output_type": "stream",
     "text": [
      "DEBUG:inputs.py:filter_by_responsivity\n"
     ]
    },
    {
     "name": "stderr",
     "output_type": "stream",
     "text": [
      "DEBUG:inputs.py:Z-score range: -5.024 - 9.998.\n"
     ]
    },
    {
     "name": "stderr",
     "output_type": "stream",
     "text": [
      "DEBUG:inputs.py:Found 145 glomeruli with at least one responsive trial.\n"
     ]
    },
    {
     "name": "stderr",
     "output_type": "stream",
     "text": [
      "DEBUG:inputs.py:Received min_resp_trials=0.75\n"
     ]
    },
    {
     "name": "stderr",
     "output_type": "stream",
     "text": [
      "DEBUG:inputs.py:Interpreted as min_resp_trials=18 trials.\n"
     ]
    },
    {
     "name": "stderr",
     "output_type": "stream",
     "text": [
      "DEBUG:inputs.py:Flagging the 3 glomeruli with at least 18 responsive trials.\n"
     ]
    },
    {
     "name": "stderr",
     "output_type": "stream",
     "text": [
      "DEBUG:inputs.py:Found 3 responsive glomeruli: [20, 31, 121]\n"
     ]
    },
    {
     "name": "stderr",
     "output_type": "stream",
     "text": [
      "WARNING:inputs.py:Number of responsive glomeruli 3 < desired number of glomeruli 145.\n"
     ]
    },
    {
     "name": "stderr",
     "output_type": "stream",
     "text": [
      "DEBUG:inputs.py:Picked 3/n_resp_glom=3 responsive glomeruli: ind_glom=[20, 31, 121]\n"
     ]
    },
    {
     "name": "stderr",
     "output_type": "stream",
     "text": [
      "DEBUG:inputs.py:Shape of predictors: X.shape=(24, 3)\n"
     ]
    },
    {
     "name": "stderr",
     "output_type": "stream",
     "text": [
      "DEBUG:inputs.py:(stim='2Hzanti-corr01', pair='CD') -> [-1, -1, -1, -1, -1, -1]\n"
     ]
    },
    {
     "name": "stderr",
     "output_type": "stream",
     "text": [
      "DEBUG:inputs.py:(stim='2Hzanti-corr02', pair='CD') -> [-1, -1, -1, -1, -1, -1]\n"
     ]
    },
    {
     "name": "stderr",
     "output_type": "stream",
     "text": [
      "DEBUG:inputs.py:(stim='2Hzcorr01', pair='CD') -> [1, 1, 1, 1, 1, 1]\n"
     ]
    },
    {
     "name": "stderr",
     "output_type": "stream",
     "text": [
      "DEBUG:inputs.py:(stim='2Hzcorr02', pair='CD') -> [1, 1, 1, 1, 1, 1]\n"
     ]
    },
    {
     "name": "stderr",
     "output_type": "stream",
     "text": [
      "DEBUG:inputs.py:Labels: [-1, -1, -1, -1, -1, -1, -1, -1, -1, -1, -1, -1, 1, 1, 1, 1, 1, 1, 1, 1, 1, 1, 1, 1]\n"
     ]
    },
    {
     "name": "stderr",
     "output_type": "stream",
     "text": [
      "DEBUG:run.py:Split  0: ITRN [19 16  7  2 17 21  1 14 13 15 11 22 10  4  6 18 12  8 23  3  9]\n"
     ]
    },
    {
     "name": "stderr",
     "output_type": "stream",
     "text": [
      "DEBUG:run.py:Split  0: ITST [20  5  0]\n"
     ]
    },
    {
     "name": "stderr",
     "output_type": "stream",
     "text": [
      "DEBUG:run.py:Split  0: y_trn=array([ 1, -1, -1,  1,  1, -1, -1,  1, -1, -1,  1, -1,  1,  1,  1,  1, -1,\n",
      "       -1,  1,  1, -1])\n"
     ]
    },
    {
     "name": "stderr",
     "output_type": "stream",
     "text": [
      "DEBUG:run.py:Split  0: y_tst=array([-1,  1, -1])\n"
     ]
    },
    {
     "name": "stderr",
     "output_type": "stream",
     "text": [
      "DEBUG:run.py:Split  0: Pipeline(steps=[('scaler', StandardScaler()),\n",
      "                ('clf', SVC(C=0.0001, max_iter=1000000, random_state=0))])\n"
     ]
    },
    {
     "name": "stderr",
     "output_type": "stream",
     "text": [
      "DEBUG:run.py:Split  0: Y_PRED_TRN=[1 1 1 1 1 1 1 1 1 1 1 1 1 1 1 1 1 1 1 1 1]\n"
     ]
    },
    {
     "name": "stderr",
     "output_type": "stream",
     "text": [
      "DEBUG:run.py:Split  0: y_pred_tst=array([1, 1, 1])\n"
     ]
    },
    {
     "name": "stderr",
     "output_type": "stream",
     "text": [
      "DEBUG:run.py:Split  0: TRAINING (11/21 trials are +1) 0.524\tTEST ( 1/3  trials are +1) 0.333\n"
     ]
    },
    {
     "name": "stderr",
     "output_type": "stream",
     "text": [
      "DEBUG:run.py:Split  1: ITRN [18 22 12 19 16 21  2 15  0  8 13  5 14  9 23 20 11  6  3 10  1]\n"
     ]
    },
    {
     "name": "stderr",
     "output_type": "stream",
     "text": [
      "DEBUG:run.py:Split  1: ITST [ 4 17  7]\n"
     ]
    },
    {
     "name": "stderr",
     "output_type": "stream",
     "text": [
      "DEBUG:run.py:Split  1: y_trn=array([ 1, -1, -1,  1, -1, -1,  1,  1,  1,  1, -1, -1,  1,  1,  1,  1, -1,\n",
      "       -1, -1,  1, -1])\n"
     ]
    },
    {
     "name": "stderr",
     "output_type": "stream",
     "text": [
      "DEBUG:run.py:Split  1: y_tst=array([-1,  1, -1])\n"
     ]
    },
    {
     "name": "stderr",
     "output_type": "stream",
     "text": [
      "DEBUG:run.py:Split  1: Pipeline(steps=[('scaler', StandardScaler()),\n",
      "                ('clf', SVC(C=0.0001, max_iter=1000000, random_state=0))])\n"
     ]
    },
    {
     "name": "stderr",
     "output_type": "stream",
     "text": [
      "DEBUG:run.py:Split  1: Y_PRED_TRN=[1 1 1 1 1 1 1 1 1 1 1 1 1 1 1 1 1 1 1 1 1]\n"
     ]
    },
    {
     "name": "stderr",
     "output_type": "stream",
     "text": [
      "DEBUG:run.py:Split  1: y_pred_tst=array([1, 1, 1])\n"
     ]
    },
    {
     "name": "stderr",
     "output_type": "stream",
     "text": [
      "DEBUG:run.py:Split  1: TRAINING (11/21 trials are +1) 0.524\tTEST ( 1/3  trials are +1) 0.333\n"
     ]
    },
    {
     "name": "stderr",
     "output_type": "stream",
     "text": [
      "DEBUG:run.py:Train 0.524 +/- 0.000\n"
     ]
    },
    {
     "name": "stderr",
     "output_type": "stream",
     "text": [
      "DEBUG:run.py: Test 0.333 +/- 0.000\n"
     ]
    },
    {
     "data": {
      "text/plain": [
       "(0.5238095238095238, 0.3333333333333333)"
      ]
     },
     "execution_count": 3,
     "metadata": {},
     "output_type": "execute_result"
    }
   ],
   "source": [
    "seed = 0\n",
    "search = run.get_pipeline(\"svc_rbf\", seed=seed)\n",
    "conf = Config(seed, 145, 1, 2, \"CD\", \"yes\", 0.025, 6, 1, 0.75)\n",
    "run.run_single(conf, search, custom_scoring = True, scoring_noise = False)"
   ]
  },
  {
   "cell_type": "markdown",
   "metadata": {
    "ein.tags": "worksheet-0",
    "slideshow": {
     "slide_type": "-"
    }
   },
   "source": [
    "Finally, just to check explictly that SSS is unperturbed by uses of np.random"
   ]
  },
  {
   "cell_type": "code",
   "execution_count": 4,
   "metadata": {
    "autoscroll": false,
    "collapsed": false,
    "ein.hycell": false,
    "ein.tags": "worksheet-0",
    "slideshow": {
     "slide_type": "-"
    }
   },
   "outputs": [],
   "source": [
    "from sklearn.model_selection import StratifiedShuffleSplit"
   ]
  },
  {
   "cell_type": "code",
   "execution_count": 5,
   "metadata": {
    "autoscroll": false,
    "collapsed": false,
    "ein.hycell": false,
    "ein.tags": "worksheet-0",
    "slideshow": {
     "slide_type": "-"
    }
   },
   "outputs": [],
   "source": [
    "X = randn(24,10);\n",
    "y = 2*( randn(24,)>0)-1"
   ]
  },
  {
   "cell_type": "code",
   "execution_count": 6,
   "metadata": {
    "autoscroll": false,
    "collapsed": false,
    "ein.hycell": false,
    "ein.tags": "worksheet-0",
    "slideshow": {
     "slide_type": "-"
    }
   },
   "outputs": [
    {
     "name": "stdout",
     "output_type": "stream",
     "text": [
      "[23  9 14  2  0 10  1 12 13  7 20  6 18  4 11 16 21 15  5  3 17]\n",
      "[21  2 14  6  7 23 19  0 15 16  8  9 17  5 10 20 11  3 22 13  1]\n",
      "[17 18  6 16 15 10  7 14 20 11 21 22  9  8 13  5  1  2 23 19  0]\n",
      "[ 0 13 17 15  5  4 23 22  7 10 21  8 11 16  9 19 18 20 12  1 14]\n",
      "[ 8 19  1  2  3  9 18 17 21 23 12 20  5  6  7 14 15 11 10 22 16]\n",
      "[12  6 10  4  1 11 18 17 20  3 23  2  5  0 21 13 16  7 19 22 15]\n",
      "[15  1 18 22  8 23  4  0 11  7  6 16 13 12  9 17 14 10  3  5 21]\n",
      "[13 11 19  6  4  2  1 22 21 16 23 10 14  7 15 20 12  3  0 18  9]\n",
      "[ 7 16  0 22 19  4 20 17 13 11  5 10  2  3  8 18  1 21  9 12  6]\n",
      "[11  8 17 21  0  7 19  1 12  6 13  2 23  9 18 22 20  4  5 16  3]\n"
     ]
    }
   ],
   "source": [
    "for i, (itrn, itst) in enumerate(StratifiedShuffleSplit(random_state=0).split(X,y)):\n",
    "    print(itrn)    \n",
    "    a = random.randn(20,)"
   ]
  },
  {
   "cell_type": "code",
   "execution_count": null,
   "metadata": {
    "autoscroll": false,
    "collapsed": false,
    "ein.hycell": false,
    "ein.tags": "worksheet-0",
    "slideshow": {
     "slide_type": "-"
    }
   },
   "outputs": [],
   "source": []
  }
 ],
 "metadata": {
  "kernelspec": {
   "display_name": "Python 3",
   "name": "python3"
  },
  "name": "test_custom_scoring.ipynb"
 },
 "nbformat": 4,
 "nbformat_minor": 4
}
